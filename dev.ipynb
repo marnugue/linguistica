{
 "cells": [
  {
   "cell_type": "code",
   "execution_count": 5,
   "source": [
    "import requests\n",
    "import validators\n",
    "url = \"https://as.com/futbol/2021/11/30/primera/1638298124_397139.html\""
   ],
   "outputs": [],
   "metadata": {}
  },
  {
   "cell_type": "code",
   "execution_count": 2,
   "source": [
    "r =requests.get(url)"
   ],
   "outputs": [],
   "metadata": {}
  },
  {
   "cell_type": "code",
   "execution_count": 4,
   "source": [
    "r.status_code"
   ],
   "outputs": [
    {
     "output_type": "execute_result",
     "data": {
      "text/plain": [
       "200"
      ]
     },
     "metadata": {},
     "execution_count": 4
    }
   ],
   "metadata": {}
  },
  {
   "cell_type": "code",
   "execution_count": null,
   "source": [
    "with open(\"Datasets.txt\",\"r\") as fd:\n",
    "    i = 1\n",
    "    line = fd.readline()\n",
    "    while line:\n",
    "        if validators.url(line):\n",
    "            r =requests.get(line)\n",
    "            if r.status_code!=200:\n",
    "                  print(f\"linea -> `{line}`\")\n",
    "            name = \"\"\n",
    "            if line.find(\"marca.com\")!=-1:\n",
    "                name = f\"data/html/D{i}-D.html\"\n",
    "            elif line.find(\"as.com\")!=-1:\n",
    "                name = f\"data/html/D{i}-AS.html\"\n",
    "            else:\n",
    "                name = f\"data/html/D{i}-MD.html\"\n",
    "                \n",
    "            if r.status_code == 200:\n",
    "                with open(name,\"w\") as file:\n",
    "                    file.writelines(r.text)\n",
    "            else:\n",
    "                name = name.split(\".\")[-2]\n",
    "                name +=\"Error.html\"\n",
    "                with open(name,\"w\") as file:\n",
    "                    file.write(line)\n",
    "            file.close()  \n",
    "            i+=1\n",
    "        line = fd.readline()"
   ],
   "outputs": [],
   "metadata": {}
  }
 ],
 "metadata": {
  "orig_nbformat": 4,
  "language_info": {
   "name": "python",
   "version": "3.9.7",
   "mimetype": "text/x-python",
   "codemirror_mode": {
    "name": "ipython",
    "version": 3
   },
   "pygments_lexer": "ipython3",
   "nbconvert_exporter": "python",
   "file_extension": ".py"
  },
  "kernelspec": {
   "name": "python3",
   "display_name": "Python 3.9.7 64-bit ('linguistica': conda)"
  },
  "interpreter": {
   "hash": "817faef56ef206d96248aa0f2c859b66f261e2c68c9e64ec659a763edf6a9ff9"
  }
 },
 "nbformat": 4,
 "nbformat_minor": 2
}