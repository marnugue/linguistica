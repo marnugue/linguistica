{
 "cells": [
  {
   "cell_type": "code",
   "execution_count": 54,
   "source": [
    "from collections import Counter\n",
    "from glob import glob \n",
    "from utils.cleaner import cleanTexts\n",
    "import pickle\n",
    "import pandas as pd\n",
    "import seaborn as sns\n",
    "from collections import Counter\n",
    "from glob import glob \n",
    "path =  \"data/dataset\"\n",
    "data = cleanTexts(path,lematizer = False,stopword=False,steaming = False,extractor=False)\n",
    "file_pi = open('dataCleaned.obj', 'wb') \n",
    "pickle.dump(data, file_pi)"
   ],
   "outputs": [],
   "metadata": {}
  },
  {
   "cell_type": "code",
   "execution_count": 66,
   "source": [
    "filehandler = open(\"dataCleaned.obj\", 'rb') \n",
    "data = pickle.load(filehandler)\n",
    "df = pd.DataFrame({},columns=[\"text\",\"class\"])\n",
    "for i in range(len(data)):\n",
    "        df = df.append(pd.DataFrame(data[i], columns=df.columns),ignore_index=True)"
   ],
   "outputs": [],
   "metadata": {}
  },
  {
   "cell_type": "code",
   "execution_count": 74,
   "source": [
    "texts = df[df[\"class\"]==3][\"text\"].to_numpy().flatten()\n",
    "textClass = \"\"\n",
    "for elem in texts:\n",
    "    textClass+=elem\n",
    "textClass = textClass.split(\" \")"
   ],
   "outputs": [],
   "metadata": {}
  },
  {
   "cell_type": "code",
   "execution_count": 75,
   "source": [
    "from collections import Counter\n",
    "\n",
    "\n",
    " # equals to list(set(words))\n",
    " #\n",
    "dfFiltered = pd.DataFrame({},columns=[\"word\",\"count\"])\n",
    "dfFiltered[\"word\"] = list(Counter(textClass).keys())\n",
    "dfFiltered[\"count\"] = list(Counter(textClass).values())\n",
    "dataFiltered = dfFiltered.sort_values(by=\"count\",ascending=False).head(5)"
   ],
   "outputs": [],
   "metadata": {}
  },
  {
   "cell_type": "code",
   "execution_count": 76,
   "source": [
    "sns.set(font_scale=1) \n",
    "ax = sns.barplot(x=\"word\", y=\"count\", data=dataFiltered)\n",
    "ax.set(xlabel='Palabras', ylabel='Frecuencia')\n",
    "ax.set_title(\"Frecuencia de palabras Politica\")\n",
    "ax.figure.savefig('PalabrasConStopWordsPolitica.png',dpi=600)"
   ],
   "outputs": [
    {
     "output_type": "display_data",
     "data": {
      "image/png": "[encoded data removed]",
      "text/plain": [
       "<Figure size 432x288 with 1 Axes>"
      ]
     },
     "metadata": {}
    }
   ],
   "metadata": {}
  },
  {
   "cell_type": "code",
   "execution_count": null,
   "source": [],
   "outputs": [],
   "metadata": {}
  }
 ],
 "metadata": {
  "kernelspec": {
   "display_name": "CTB",
   "language": "python",
   "name": "ctb"
  },
  "language_info": {
   "codemirror_mode": {
    "name": "ipython",
    "version": 3
   },
   "file_extension": ".py",
   "mimetype": "text/x-python",
   "name": "python",
   "nbconvert_exporter": "python",
   "pygments_lexer": "ipython3",
   "version": "3.8.10"
  }
 },
 "nbformat": 4,
 "nbformat_minor": 5
}